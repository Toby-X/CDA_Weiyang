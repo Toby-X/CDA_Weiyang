{
 "cells": [
  {
   "cell_type": "code",
   "execution_count": 1,
   "metadata": {},
   "outputs": [
    {
     "name": "stderr",
     "output_type": "stream",
     "text": [
      "c:\\ProgramData\\Anaconda3\\lib\\site-packages\\openpyxl\\styles\\stylesheet.py:226: UserWarning: Workbook contains no default style, apply openpyxl's default\n",
      "  warn(\"Workbook contains no default style, apply openpyxl's default\")\n"
     ]
    }
   ],
   "source": [
    "#-*- coding: utf-8 -*-\n",
    "## READ DATA\n",
    "import numpy as np\n",
    "import pandas as pd\n",
    "\n",
    "path = \"./Datasets/bilibili2.xlsx\"\n",
    "data_ori = pd.read_excel(path,parse_dates=[\"最近更新时间\"])"
   ]
  },
  {
   "cell_type": "code",
   "execution_count": 2,
   "metadata": {},
   "outputs": [],
   "source": [
    "id = list(map(int,data_ori[\"ID\"]))\n",
    "uptime = data_ori[\"最近更新时间\"].dt.day\n",
    "years = data_ori[\"最近更新时间\"].dt.year-2017\n",
    "#看了最小的年份为2017年\n",
    "months = data_ori[\"最近更新时间\"].dt.month\n",
    "uptime = years*365+months*30+uptime\n",
    "#最近更新时间越大，说明离现在越近\n",
    "ifans = data_ori[\"ifans指数\"]\n",
    "gender = data_ori[\"gender\"] == \"女\"\n",
    "gender = gender+0"
   ]
  },
  {
   "cell_type": "code",
   "execution_count": 3,
   "metadata": {},
   "outputs": [],
   "source": [
    "def delete_wan(string):\n",
    "    return string.strip(\"万\")\n",
    "\n",
    "def find_wan(string):\n",
    "    idx = string.find(\"万\")\n",
    "    idx = idx>0\n",
    "    idx = idx+0\n",
    "    return idx\n",
    "\n",
    "def transform_wan(L):\n",
    "    idx = list(map(find_wan,L))\n",
    "    num = np.array(list(map(delete_wan,L)),dtype=float)\n",
    "    #num[idx] = num[idx]* 1e5\n",
    "    for i in range(len(idx)):\n",
    "        if idx[i]:\n",
    "            num[i] = num[i]*1e4\n",
    "    num = list(map(int,num))\n",
    "    return num\n",
    "\n",
    "df = data_ori.columns\n",
    "num_fans = transform_wan(data_ori[\"粉丝数\"])\n",
    "num_videos = transform_wan(data_ori[\"视频数\"])\n",
    "num_charge = transform_wan(data_ori[\"充电数\"])\n",
    "av_coin = transform_wan(data_ori[df[10]])\n",
    "av_danmu = transform_wan(data_ori[df[11]])\n",
    "av_star = transform_wan(data_ori[df[12]])\n",
    "av_like = transform_wan(data_ori[df[13]])\n",
    "av_play = transform_wan(data_ori[df[14]])\n",
    "av_comment = transform_wan(data_ori[df[15]])\n",
    "av_share = transform_wan(data_ori[df[16]])"
   ]
  },
  {
   "cell_type": "code",
   "execution_count": 4,
   "metadata": {},
   "outputs": [],
   "source": [
    "def def_cat(L):\n",
    "    def what_cat(x):\n",
    "        if x <= 10*1e4:\n",
    "            return 0\n",
    "        elif x <= 50*1e4:\n",
    "            return 1\n",
    "        elif x <= 100*1e4:\n",
    "            return 2\n",
    "        else:\n",
    "            return 3\n",
    "    L_new = list(map(what_cat,L))\n",
    "    return L_new\n",
    "\n",
    "fans_cat = def_cat(num_fans)"
   ]
  },
  {
   "cell_type": "code",
   "execution_count": 5,
   "metadata": {},
   "outputs": [],
   "source": [
    "data_trans = pd.DataFrame({'id':id,'uptime':uptime,'ifans':ifans,\"gender\":gender,\"num_fans\":num_fans,\"fans_cat\":fans_cat, \"num_videos\":num_videos,\n",
    "    \"num_charge\":num_charge,\"av_coin\":av_coin,\"av_danmu\":av_danmu,\"av_star\":av_star,\"av_like\":av_like,\"av_play\":av_play,\"av_comment\":av_comment,\n",
    "    \"av_share\":av_share})"
   ]
  },
  {
   "cell_type": "code",
   "execution_count": 6,
   "metadata": {},
   "outputs": [],
   "source": [
    "data_trans.to_csv(\"./Datasets/bilibili.csv\")"
   ]
  }
 ],
 "metadata": {
  "kernelspec": {
   "display_name": "Python 3.8.13 ('base')",
   "language": "python",
   "name": "python3"
  },
  "language_info": {
   "codemirror_mode": {
    "name": "ipython",
    "version": 3
   },
   "file_extension": ".py",
   "mimetype": "text/x-python",
   "name": "python",
   "nbconvert_exporter": "python",
   "pygments_lexer": "ipython3",
   "version": "3.8.13 (default, Mar 28 2022, 06:59:08) [MSC v.1916 64 bit (AMD64)]"
  },
  "orig_nbformat": 4,
  "vscode": {
   "interpreter": {
    "hash": "ad2bdc8ecc057115af97d19610ffacc2b4e99fae6737bb82f5d7fb13d2f2c186"
   }
  }
 },
 "nbformat": 4,
 "nbformat_minor": 2
}
